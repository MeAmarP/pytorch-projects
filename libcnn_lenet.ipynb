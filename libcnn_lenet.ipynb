{
 "cells": [
  {
   "cell_type": "code",
   "execution_count": 1,
   "metadata": {},
   "outputs": [
    {
     "name": "stderr",
     "output_type": "stream",
     "text": [
      "/opt/conda/lib/python3.10/site-packages/tqdm/auto.py:22: TqdmWarning: IProgress not found. Please update jupyter and ipywidgets. See https://ipywidgets.readthedocs.io/en/stable/user_install.html\n",
      "  from .autonotebook import tqdm as notebook_tqdm\n"
     ]
    },
    {
     "name": "stdout",
     "output_type": "stream",
     "text": [
      "1.13.1\n",
      "0.14.1\n"
     ]
    }
   ],
   "source": [
    "import torch\n",
    "import torchvision\n",
    "import torchvision.transforms as transforms\n",
    "\n",
    "def print_torch_versions():\n",
    "    \"\"\"\n",
    "    Prints the version of torch and torchvision.\n",
    "    \"\"\"\n",
    "    print(torch.__version__)    \n",
    "    print(torchvision.__version__)\n",
    "\n",
    "\n",
    "print_torch_versions()\n"
   ]
  },
  {
   "cell_type": "code",
   "execution_count": 67,
   "metadata": {},
   "outputs": [],
   "source": [
    "device = \"cuda:0\" if torch.cuda.is_available() else \"cpu\""
   ]
  },
  {
   "cell_type": "code",
   "execution_count": 68,
   "metadata": {},
   "outputs": [],
   "source": [
    "\"\"\"\n",
    "Load the MNIST dataset for training and testing.\n",
    "\"\"\"\n",
    "train_mnist = torchvision.datasets.MNIST(\n",
    "    root=\"mnist\",\n",
    "    train=True,\n",
    "    transform=transforms.Compose([transforms.Resize((32,32)),\n",
    "                                  transforms.ToTensor(),\n",
    "                                  transforms.Normalize((0.5,), (0.5,))]),\n",
    "    download=True,\n",
    ")\n",
    "test_mnist = torchvision.datasets.MNIST(\n",
    "    root=\"mnist\",\n",
    "    train=False,\n",
    "    transform=transforms.Compose([transforms.Resize((34,32)),\n",
    "                                  transforms.ToTensor(),\n",
    "                                  transforms.Normalize((0.5,), (0.5,))]),\n",
    "    download=True,\n",
    ")\n"
   ]
  },
  {
   "cell_type": "code",
   "execution_count": 69,
   "metadata": {},
   "outputs": [],
   "source": [
    "\"\"\"\n",
    "Get the list of class names from the CIFAR10 training dataset.\n",
    "\n",
    "Returns:\n",
    "classnames (list): A list of class names.\n",
    "\"\"\"\n",
    "classnames = train_mnist.classes"
   ]
  },
  {
   "cell_type": "code",
   "execution_count": 70,
   "metadata": {},
   "outputs": [],
   "source": [
    "# Hyperparameters\n",
    "\n",
    "# Number of training epochs\n",
    "EPOCHS = 20\n",
    "\n",
    "# Batch size for training\n",
    "BATCH_SIZE = 32\n",
    "\n",
    "# Learning Rate\n",
    "LEARNING_RATE = 1e-3"
   ]
  },
  {
   "cell_type": "code",
   "execution_count": 71,
   "metadata": {},
   "outputs": [],
   "source": [
    "train_dataloader = torch.utils.data.DataLoader(\n",
    "    train_mnist, batch_size=BATCH_SIZE, shuffle=True\n",
    ")\n",
    "test_dataloader = torch.utils.data.DataLoader(\n",
    "    test_mnist, batch_size=BATCH_SIZE, shuffle=False\n",
    ")"
   ]
  },
  {
   "cell_type": "code",
   "execution_count": 72,
   "metadata": {},
   "outputs": [
    {
     "name": "stdout",
     "output_type": "stream",
     "text": [
      "Image batch dimensions: torch.Size([32, 1, 32, 32])\n",
      "Image label dimensions: torch.Size([32])\n"
     ]
    }
   ],
   "source": [
    "for images, labels in train_dataloader:\n",
    "    print(\"Image batch dimensions:\", images.shape)\n",
    "    print(\"Image label dimensions:\", labels.shape)\n",
    "    break"
   ]
  },
  {
   "cell_type": "code",
   "execution_count": 73,
   "metadata": {},
   "outputs": [],
   "source": [
    "from libcnn import LeNet5\n",
    "\n",
    "lenet_model = LeNet5(num_classes=10).to(device)\n",
    "\n",
    "# define the loss function\n",
    "loss_fn = torch.nn.CrossEntropyLoss()\n",
    "\n",
    "# define optmization function\n",
    "optimizer = torch.optim.Adam(lenet_model.parameters(), lr=0.001)\n"
   ]
  },
  {
   "cell_type": "code",
   "execution_count": 74,
   "metadata": {},
   "outputs": [],
   "source": [
    "def train(model, num_epochs, train_dl, valid_dl):\n",
    "    loss_hist_train = [0] * num_epochs\n",
    "    accuracy_hist_train = [0] * num_epochs\n",
    "    loss_hist_valid = [0]*num_epochs\n",
    "    accuracy_hist_valid = [0]*num_epochs\n",
    "\n",
    "    for epoch in range(num_epochs):\n",
    "        model.train()\n",
    "        for x_batch, y_batch in train_dl:\n",
    "            x_batch = x_batch.to(device)\n",
    "            y_batch = y_batch.to(device)\n",
    "            pred = model(x_batch)\n",
    "            loss = loss_fn(pred, y_batch)\n",
    "            loss.backward()\n",
    "            optimizer.step()\n",
    "            optimizer.zero_grad()\n",
    "            loss_hist_train[epoch] += loss.item()*y_batch.size(0)\n",
    "            is_correct =(torch.argmax(pred, dim=1) == y_batch).float()\n",
    "            accuracy_hist_train[epoch] += is_correct.sum()\n",
    "        loss_hist_train[epoch] /= len(train_dl.dataset)\n",
    "        accuracy_hist_train[epoch] /= len(train_dl.dataset)\n",
    "\n",
    "        model.eval()\n",
    "        with torch.no_grad():\n",
    "            for x_batch, y_batch in valid_dl:\n",
    "                x_batch = x_batch.to(device)\n",
    "                y_batch = y_batch.to(device)\n",
    "                pred = model(x_batch)\n",
    "                loss = loss_fn(pred,y_batch)\n",
    "                loss_hist_valid[epoch] += loss.item()*y_batch.size(0)\n",
    "                is_correct = (torch.argmax(pred, dim=1) == y_batch).float()\n",
    "                accuracy_hist_valid[epoch] += is_correct.sum()\n",
    "            loss_hist_valid[epoch] /= len(valid_dl.dataset)\n",
    "            accuracy_hist_valid[epoch] /= len(valid_dl.dataset)\n",
    "        \n",
    "        print(f'Epoch {epoch+1} accuracy: {accuracy_hist_train[epoch]:.4f} (train) {accuracy_hist_valid[epoch]:.4f} (valid)')\n",
    "    \n",
    "    return loss_hist_train, accuracy_hist_train, loss_hist_valid, accuracy_hist_valid\n",
    "\n"
   ]
  },
  {
   "cell_type": "code",
   "execution_count": 75,
   "metadata": {},
   "outputs": [
    {
     "name": "stdout",
     "output_type": "stream",
     "text": [
      "Epoch 1 accuracy: 0.9457 (train) 0.9814 (valid)\n",
      "Epoch 2 accuracy: 0.9822 (train) 0.9840 (valid)\n",
      "Epoch 3 accuracy: 0.9874 (train) 0.9879 (valid)\n",
      "Epoch 4 accuracy: 0.9899 (train) 0.9872 (valid)\n",
      "Epoch 5 accuracy: 0.9917 (train) 0.9872 (valid)\n",
      "Epoch 6 accuracy: 0.9930 (train) 0.9907 (valid)\n",
      "Epoch 7 accuracy: 0.9936 (train) 0.9885 (valid)\n",
      "Epoch 8 accuracy: 0.9950 (train) 0.9888 (valid)\n",
      "Epoch 9 accuracy: 0.9955 (train) 0.9898 (valid)\n",
      "Epoch 10 accuracy: 0.9956 (train) 0.9892 (valid)\n",
      "Epoch 11 accuracy: 0.9962 (train) 0.9902 (valid)\n",
      "Epoch 12 accuracy: 0.9966 (train) 0.9896 (valid)\n",
      "Epoch 13 accuracy: 0.9967 (train) 0.9881 (valid)\n",
      "Epoch 14 accuracy: 0.9970 (train) 0.9923 (valid)\n",
      "Epoch 15 accuracy: 0.9969 (train) 0.9902 (valid)\n",
      "Epoch 16 accuracy: 0.9974 (train) 0.9892 (valid)\n",
      "Epoch 17 accuracy: 0.9974 (train) 0.9897 (valid)\n",
      "Epoch 18 accuracy: 0.9975 (train) 0.9897 (valid)\n",
      "Epoch 19 accuracy: 0.9976 (train) 0.9890 (valid)\n",
      "Epoch 20 accuracy: 0.9975 (train) 0.9904 (valid)\n"
     ]
    }
   ],
   "source": [
    "torch.manual_seed(1)\n",
    "\n",
    "hist = train(lenet_model, EPOCHS, train_dataloader, test_dataloader)\n"
   ]
  },
  {
   "cell_type": "code",
   "execution_count": 76,
   "metadata": {},
   "outputs": [
    {
     "data": {
      "image/png": "[encoded data removed]",
      "text/plain": [
       "<Figure size 1000x400 with 2 Axes>"
      ]
     },
     "metadata": {},
     "output_type": "display_data"
    }
   ],
   "source": [
    "# Write a function to plot a graph for accuracy and loss\n",
    "import matplotlib.pyplot as plt\n",
    "\n",
    "def plot_graphs(hist):\n",
    "    loss_hist_train, accuracy_hist_train, loss_hist_valid, accuracy_hist_valid = hist\n",
    "    accuracy_hist_train = [x.item() for x in accuracy_hist_train]\n",
    "    accuracy_hist_valid = [x.item() for x in accuracy_hist_valid]\n",
    "    plt.figure(figsize=(10, 4))\n",
    "    plt.subplot(1, 2, 1)\n",
    "    plt.title('Loss')\n",
    "    plt.plot(loss_hist_train, label='train')\n",
    "    plt.plot(loss_hist_valid, label='valid')\n",
    "    plt.legend()\n",
    "    plt.subplot(1, 2, 2)\n",
    "    plt.title('Accuracy')\n",
    "    plt.plot(accuracy_hist_train, label='train')\n",
    "    plt.plot(accuracy_hist_valid, label='valid')\n",
    "    plt.legend()\n",
    "    plt.show()\n",
    "\n",
    "plot_graphs(hist)"
   ]
  },
  {
   "cell_type": "code",
   "execution_count": null,
   "metadata": {},
   "outputs": [],
   "source": []
  }
 ],
 "metadata": {
  "kernelspec": {
   "display_name": "base",
   "language": "python",
   "name": "python3"
  },
  "language_info": {
   "codemirror_mode": {
    "name": "ipython",
    "version": 3
   },
   "file_extension": ".py",
   "mimetype": "text/x-python",
   "name": "python",
   "nbconvert_exporter": "python",
   "pygments_lexer": "ipython3",
   "version": "3.10.8"
  },
  "orig_nbformat": 4
 },
 "nbformat": 4,
 "nbformat_minor": 2
}
