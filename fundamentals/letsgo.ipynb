{
 "cells": [
  {
   "cell_type": "code",
   "execution_count": 2,
   "metadata": {},
   "outputs": [
    {
     "name": "stdout",
     "output_type": "stream",
     "text": [
      "1.13.1\n",
      "True\n"
     ]
    }
   ],
   "source": [
    "import torch\n",
    "\n",
    "print(torch.__version__)\n",
    "print(torch.cuda.is_available())"
   ]
  },
  {
   "cell_type": "code",
   "execution_count": 10,
   "metadata": {},
   "outputs": [],
   "source": [
    "tensor_A = torch.rand(7,7)\n",
    "tensor_B = torch.rand(1,7)"
   ]
  },
  {
   "cell_type": "code",
   "execution_count": 11,
   "metadata": {},
   "outputs": [
    {
     "data": {
      "text/plain": [
       "tensor([[1.7197],\n",
       "        [3.1125],\n",
       "        [2.0645],\n",
       "        [3.1271],\n",
       "        [2.3144],\n",
       "        [2.3593],\n",
       "        [2.0623]])"
      ]
     },
     "execution_count": 11,
     "metadata": {},
     "output_type": "execute_result"
    }
   ],
   "source": [
    "torch.matmul(tensor_A, tensor_B.T)"
   ]
  },
  {
   "cell_type": "code",
   "execution_count": 14,
   "metadata": {},
   "outputs": [],
   "source": [
    "torch.manual_seed(seed=0)\n",
    "random_tensor_A = torch.rand(3, 4)\n",
    "\n",
    "torch.random.manual_seed(seed=0)\n",
    "random_tensor_B = torch.rand(3, 4)\n",
    "\n"
   ]
  },
  {
   "cell_type": "code",
   "execution_count": 15,
   "metadata": {},
   "outputs": [
    {
     "data": {
      "text/plain": [
       "(tensor([[0.4963, 0.7682, 0.0885, 0.1320],\n",
       "         [0.3074, 0.6341, 0.4901, 0.8964],\n",
       "         [0.4556, 0.6323, 0.3489, 0.4017]]),\n",
       " tensor([[0.4963, 0.7682, 0.0885, 0.1320],\n",
       "         [0.3074, 0.6341, 0.4901, 0.8964],\n",
       "         [0.4556, 0.6323, 0.3489, 0.4017]]))"
      ]
     },
     "execution_count": 15,
     "metadata": {},
     "output_type": "execute_result"
    }
   ],
   "source": [
    "random_tensor_A, random_tensor_B"
   ]
  },
  {
   "cell_type": "code",
   "execution_count": 16,
   "metadata": {},
   "outputs": [
    {
     "data": {
      "text/plain": [
       "'cuda'"
      ]
     },
     "execution_count": 16,
     "metadata": {},
     "output_type": "execute_result"
    }
   ],
   "source": [
    "device = 'cuda' if torch.cuda.is_available() else 'cpu'\n",
    "device"
   ]
  },
  {
   "cell_type": "code",
   "execution_count": 21,
   "metadata": {},
   "outputs": [
    {
     "data": {
      "text/plain": [
       "(tensor([[ 0.5186, -1.3125,  0.1920],\n",
       "         [ 0.5428, -2.2188,  0.2590]], device='cuda:0'),\n",
       " tensor([[-1.0297, -0.5008,  0.2734],\n",
       "         [-0.9181, -0.0404,  0.2881]], device='cuda:0'))"
      ]
     },
     "execution_count": 21,
     "metadata": {},
     "output_type": "execute_result"
    }
   ],
   "source": [
    "torch.cuda.manual_seed(seed=1234)\n",
    "random_tensor_C = torch.randn(2,3).to(device)\n",
    "\n",
    "torch.cuda.manual_seed(seed=1234)\n",
    "random_tensor_D = torch.randn(2,3).to(device)\n",
    "\n",
    "random_tensor_C, random_tensor_D"
   ]
  },
  {
   "cell_type": "code",
   "execution_count": 25,
   "metadata": {},
   "outputs": [
    {
     "name": "stdout",
     "output_type": "stream",
     "text": [
      "tensor([[ 0.1757, -0.3678],\n",
      "        [ 0.6230, -0.3340]], device='cuda:0')\n"
     ]
    }
   ],
   "source": [
    "out = torch.matmul(random_tensor_C, random_tensor_D.T)\n",
    "\n",
    "print(out)"
   ]
  },
  {
   "cell_type": "code",
   "execution_count": 26,
   "metadata": {},
   "outputs": [
    {
     "name": "stdout",
     "output_type": "stream",
     "text": [
      "tensor(0.6230, device='cuda:0')\n",
      "tensor(-0.3678, device='cuda:0')\n",
      "tensor(2, device='cuda:0')\n",
      "tensor(1, device='cuda:0')\n"
     ]
    }
   ],
   "source": [
    "print(torch.max(out))\n",
    "print(torch.min(out))\n",
    "print(torch.argmax(out))\n",
    "print(torch.argmin(out))"
   ]
  },
  {
   "cell_type": "code",
   "execution_count": 28,
   "metadata": {},
   "outputs": [
    {
     "name": "stdout",
     "output_type": "stream",
     "text": [
      "tensor([[[[0.0051, 0.1757, 0.7497, 0.6047, 0.1100, 0.2121, 0.9704, 0.8369,\n",
      "           0.2820, 0.3742]]]]) torch.Size([1, 1, 1, 10])\n"
     ]
    }
   ],
   "source": [
    "tensor_multi = torch.rand(1,1,1,10)\n",
    "print(tensor_multi, tensor_multi.shape)"
   ]
  },
  {
   "cell_type": "code",
   "execution_count": 30,
   "metadata": {},
   "outputs": [
    {
     "data": {
      "text/plain": [
       "(tensor([0.0051, 0.1757, 0.7497, 0.6047, 0.1100, 0.2121, 0.9704, 0.8369, 0.2820,\n",
       "         0.3742]),\n",
       " torch.Size([10]))"
      ]
     },
     "execution_count": 30,
     "metadata": {},
     "output_type": "execute_result"
    }
   ],
   "source": [
    "tensor_E = torch.squeeze(tensor_multi)\n",
    "tensor_E, tensor_E.shape"
   ]
  },
  {
   "cell_type": "code",
   "execution_count": null,
   "metadata": {},
   "outputs": [],
   "source": []
  }
 ],
 "metadata": {
  "kernelspec": {
   "display_name": "ptorch",
   "language": "python",
   "name": "python3"
  },
  "language_info": {
   "codemirror_mode": {
    "name": "ipython",
    "version": 3
   },
   "file_extension": ".py",
   "mimetype": "text/x-python",
   "name": "python",
   "nbconvert_exporter": "python",
   "pygments_lexer": "ipython3",
   "version": "3.10.10"
  },
  "orig_nbformat": 4
 },
 "nbformat": 4,
 "nbformat_minor": 2
}
